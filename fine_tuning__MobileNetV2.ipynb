{
  "metadata": {
    "kernelspec": {
      "language": "python",
      "display_name": "Python 3",
      "name": "python3"
    },
    "language_info": {
      "name": "python",
      "version": "3.10.14",
      "mimetype": "text/x-python",
      "codemirror_mode": {
        "name": "ipython",
        "version": 3
      },
      "pygments_lexer": "ipython3",
      "nbconvert_exporter": "python",
      "file_extension": ".py"
    },
    "kaggle": {
      "accelerator": "none",
      "dataSources": [
        {
          "sourceId": 2350613,
          "sourceType": "datasetVersion",
          "datasetId": 1419194
        },
        {
          "sourceId": 9888373,
          "sourceType": "datasetVersion",
          "datasetId": 6072673
        },
        {
          "sourceId": 9888438,
          "sourceType": "datasetVersion",
          "datasetId": 6072721
        },
        {
          "sourceId": 9888446,
          "sourceType": "datasetVersion",
          "datasetId": 6072729
        },
        {
          "sourceId": 9888453,
          "sourceType": "datasetVersion",
          "datasetId": 6072736
        },
        {
          "sourceId": 9888464,
          "sourceType": "datasetVersion",
          "datasetId": 6072745
        }
      ],
      "dockerImageVersionId": 30786,
      "isInternetEnabled": true,
      "language": "python",
      "sourceType": "notebook",
      "isGpuEnabled": false
    },
    "colab": {
      "name": "fine_tuning _MobileNetV2",
      "provenance": [],
      "include_colab_link": true
    }
  },
  "nbformat_minor": 0,
  "nbformat": 4,
  "cells": [
    {
      "cell_type": "markdown",
      "metadata": {
        "id": "view-in-github",
        "colab_type": "text"
      },
      "source": [
        "<a href=\"https://colab.research.google.com/github/Medissaoui07/Fine-Tuning-MobileNetV2-for-Classification-/blob/main/fine_tuning__MobileNetV2.ipynb\" target=\"_parent\"><img src=\"https://colab.research.google.com/assets/colab-badge.svg\" alt=\"Open In Colab\"/></a>"
      ]
    },
    {
      "source": [
        "# IMPORTANT: SOME KAGGLE DATA SOURCES ARE PRIVATE\n",
        "# RUN THIS CELL IN ORDER TO IMPORT YOUR KAGGLE DATA SOURCES.\n",
        "import kagglehub\n",
        "kagglehub.login()\n"
      ],
      "metadata": {
        "id": "f4gUwdIuWNiy"
      },
      "cell_type": "code",
      "outputs": [],
      "execution_count": null
    },
    {
      "source": [
        "# IMPORTANT: RUN THIS CELL IN ORDER TO IMPORT YOUR KAGGLE DATA SOURCES,\n",
        "# THEN FEEL FREE TO DELETE THIS CELL.\n",
        "# NOTE: THIS NOTEBOOK ENVIRONMENT DIFFERS FROM KAGGLE'S PYTHON\n",
        "# ENVIRONMENT SO THERE MAY BE MISSING LIBRARIES USED BY YOUR\n",
        "# NOTEBOOK.\n",
        "\n",
        "sid4sal_alpaca_dataset_small_path = kagglehub.dataset_download('sid4sal/alpaca-dataset-small')\n",
        "mohamedissaouiii_testing_path = kagglehub.dataset_download('mohamedissaouiii/testing')\n",
        "mohamedissaouiii_testing1_path = kagglehub.dataset_download('mohamedissaouiii/testing1')\n",
        "mohamedissaouiii_testing2_path = kagglehub.dataset_download('mohamedissaouiii/testing2')\n",
        "mohamedissaouiii_testing3_path = kagglehub.dataset_download('mohamedissaouiii/testing3')\n",
        "mohamedissaouiii_humann_path = kagglehub.dataset_download('mohamedissaouiii/humann')\n",
        "\n",
        "print('Data source import complete.')\n"
      ],
      "metadata": {
        "id": "y4FXn0uvWNi1"
      },
      "cell_type": "code",
      "outputs": [],
      "execution_count": null
    },
    {
      "cell_type": "code",
      "source": [
        "# This Python 3 environment comes with many helpful analytics libraries installed\n",
        "# It is defined by the kaggle/python Docker image: https://github.com/kaggle/docker-python\n",
        "# For example, here's several helpful packages to load\n",
        "\n",
        "import numpy as np # linear algebra\n",
        "import pandas as pd # data processing, CSV file I/O (e.g. pd.read_csv)\n",
        "\n",
        "# Input data files are available in the read-only \"../input/\" directory\n",
        "# For example, running this (by clicking run or pressing Shift+Enter) will list all files under the input directory\n",
        "\n",
        "import os\n",
        "for dirname, _, filenames in os.walk('/kaggle/input'):\n",
        "    for filename in filenames:\n",
        "        print(os.path.join(dirname, filename))\n",
        "\n",
        "# You can write up to 20GB to the current directory (/kaggle/working/) that gets preserved as output when you create a version using \"Save & Run All\"\n",
        "# You can also write temporary files to /kaggle/temp/, but they won't be saved outside of the current session"
      ],
      "metadata": {
        "_uuid": "8f2839f25d086af736a60e9eeb907d3b93b6e0e5",
        "_cell_guid": "b1076dfc-b9ad-4769-8c92-a6c4dae69d19",
        "execution": {
          "iopub.status.busy": "2024-11-12T20:25:16.983133Z",
          "iopub.execute_input": "2024-11-12T20:25:16.983531Z",
          "iopub.status.idle": "2024-11-12T20:25:18.27641Z",
          "shell.execute_reply.started": "2024-11-12T20:25:16.983493Z",
          "shell.execute_reply": "2024-11-12T20:25:18.275156Z"
        },
        "trusted": true,
        "id": "1_1iigDIWNi2"
      },
      "outputs": [],
      "execution_count": null
    },
    {
      "cell_type": "code",
      "source": [
        "import matplotlib.pyplot as plt\n",
        "import numpy as np\n",
        "import os\n",
        "import tensorflow as tf\n",
        "import tensorflow.keras.layers as tfl\n",
        "\n",
        "from tensorflow.keras.preprocessing import image_dataset_from_directory\n",
        "from tensorflow.keras.layers import RandomFlip, RandomRotation"
      ],
      "metadata": {
        "execution": {
          "iopub.status.busy": "2024-11-12T20:25:18.278375Z",
          "iopub.execute_input": "2024-11-12T20:25:18.278901Z",
          "iopub.status.idle": "2024-11-12T20:25:32.226633Z",
          "shell.execute_reply.started": "2024-11-12T20:25:18.278856Z",
          "shell.execute_reply": "2024-11-12T20:25:32.225376Z"
        },
        "trusted": true,
        "id": "nO35yQlIWNi3"
      },
      "outputs": [],
      "execution_count": null
    },
    {
      "cell_type": "code",
      "source": [
        "directory=\"/kaggle/input/alpaca-dataset-small/dataset\"\n",
        "img_size=(160,160)\n",
        "\n",
        "train_data=image_dataset_from_directory(directory,shuffle=True,batch_size=32,image_size=img_size , validation_split=0.2 , subset='training',seed=123)\n",
        "val_data=image_dataset_from_directory(directory,shuffle=True,batch_size=32,image_size=img_size , validation_split=0.2 , subset='validation',seed=123)"
      ],
      "metadata": {
        "execution": {
          "iopub.status.busy": "2024-11-12T20:25:32.227965Z",
          "iopub.execute_input": "2024-11-12T20:25:32.228549Z",
          "iopub.status.idle": "2024-11-12T20:25:32.532117Z",
          "shell.execute_reply.started": "2024-11-12T20:25:32.228511Z",
          "shell.execute_reply": "2024-11-12T20:25:32.530866Z"
        },
        "trusted": true,
        "id": "83XVQk6OWNi3"
      },
      "outputs": [],
      "execution_count": null
    },
    {
      "cell_type": "code",
      "source": [
        "class_names=train_data.class_names\n",
        "\n",
        "plt.figure(figsize=(10,10))\n",
        "for img , labels in train_data.take(1):\n",
        "    for i in range(9):\n",
        "        ax=plt.subplot(3,3,i+1)\n",
        "        plt.imshow(img[i].numpy().astype('uint8'))\n",
        "        plt.title(class_names[labels[i]])\n",
        ""
      ],
      "metadata": {
        "execution": {
          "iopub.status.busy": "2024-11-12T20:25:32.534923Z",
          "iopub.execute_input": "2024-11-12T20:25:32.53533Z",
          "iopub.status.idle": "2024-11-12T20:25:35.304926Z",
          "shell.execute_reply.started": "2024-11-12T20:25:32.535291Z",
          "shell.execute_reply": "2024-11-12T20:25:35.303193Z"
        },
        "trusted": true,
        "id": "3l_R3fumWNi4"
      },
      "outputs": [],
      "execution_count": null
    },
    {
      "cell_type": "code",
      "source": [
        "AUTOTUNE = tf.data.experimental.AUTOTUNE\n",
        "train_data = train_data.prefetch(buffer_size=AUTOTUNE)"
      ],
      "metadata": {
        "execution": {
          "iopub.status.busy": "2024-11-12T20:25:35.30629Z",
          "iopub.execute_input": "2024-11-12T20:25:35.306715Z",
          "iopub.status.idle": "2024-11-12T20:25:35.314223Z",
          "shell.execute_reply.started": "2024-11-12T20:25:35.306677Z",
          "shell.execute_reply": "2024-11-12T20:25:35.313068Z"
        },
        "trusted": true,
        "id": "833ng-gJWNi4"
      },
      "outputs": [],
      "execution_count": null
    },
    {
      "cell_type": "code",
      "source": [
        "def data_augmenter():\n",
        "  data_aug=tf.keras.Sequential()\n",
        "  data_aug.add(RandomFlip('horizontal'))\n",
        "  data_aug.add(RandomRotation(0.2))\n",
        "  return data_aug"
      ],
      "metadata": {
        "execution": {
          "iopub.status.busy": "2024-11-12T20:25:35.31728Z",
          "iopub.execute_input": "2024-11-12T20:25:35.318362Z",
          "iopub.status.idle": "2024-11-12T20:25:35.432543Z",
          "shell.execute_reply.started": "2024-11-12T20:25:35.3183Z",
          "shell.execute_reply": "2024-11-12T20:25:35.431062Z"
        },
        "trusted": true,
        "id": "7voBBg6hWNi5"
      },
      "outputs": [],
      "execution_count": null
    },
    {
      "cell_type": "code",
      "source": [
        "data_augmentation = data_augmenter()\n",
        "\n",
        "for image, _ in train_data.take(1):\n",
        "    plt.figure(figsize=(10, 10))\n",
        "    first_image = image[0]\n",
        "    for i in range(9):\n",
        "        ax = plt.subplot(3, 3, i + 1)\n",
        "        augmented_image = data_augmentation(tf.expand_dims(first_image, 0))\n",
        "        plt.imshow(augmented_image[0] / 255)\n",
        "        plt.axis('off')"
      ],
      "metadata": {
        "execution": {
          "iopub.status.busy": "2024-11-12T20:25:35.434338Z",
          "iopub.execute_input": "2024-11-12T20:25:35.434934Z",
          "iopub.status.idle": "2024-11-12T20:25:36.678582Z",
          "shell.execute_reply.started": "2024-11-12T20:25:35.434848Z",
          "shell.execute_reply": "2024-11-12T20:25:36.677269Z"
        },
        "trusted": true,
        "id": "_6aoqg5HWNi5"
      },
      "outputs": [],
      "execution_count": null
    },
    {
      "cell_type": "code",
      "source": [
        "import ssl\n",
        "ssl._create_default_https_context = ssl._create_unverified_context\n",
        "base_model = tf.keras.applications.MobileNetV2(input_shape=img_size+(3,),\n",
        "                                               include_top=True,\n",
        "                                               weights='imagenet')\n"
      ],
      "metadata": {
        "execution": {
          "iopub.status.busy": "2024-11-12T20:25:36.680849Z",
          "iopub.execute_input": "2024-11-12T20:25:36.681339Z",
          "iopub.status.idle": "2024-11-12T20:25:39.08053Z",
          "shell.execute_reply.started": "2024-11-12T20:25:36.681292Z",
          "shell.execute_reply": "2024-11-12T20:25:39.07939Z"
        },
        "trusted": true,
        "id": "Vid2zm7aWNi5"
      },
      "outputs": [],
      "execution_count": null
    },
    {
      "cell_type": "code",
      "source": [
        "base_model.summary()\n"
      ],
      "metadata": {
        "execution": {
          "iopub.status.busy": "2024-11-12T20:25:39.082075Z",
          "iopub.execute_input": "2024-11-12T20:25:39.082437Z",
          "iopub.status.idle": "2024-11-12T20:25:39.306962Z",
          "shell.execute_reply.started": "2024-11-12T20:25:39.082401Z",
          "shell.execute_reply": "2024-11-12T20:25:39.305839Z"
        },
        "trusted": true,
        "id": "pd__eCP-WNi6"
      },
      "outputs": [],
      "execution_count": null
    },
    {
      "cell_type": "code",
      "source": [
        "import tensorflow.keras.layers as tfl\n",
        "\n",
        "preprocess_input=tf.keras.applications.mobilenet_v2.preprocess_input\n",
        "\n",
        "def alpaca_model(img_size , data_augmentation=data_augmenter()):\n",
        "    input_shape=img_size+(3,)\n",
        "\n",
        "    base_model=tf.keras.applications.MobileNetV2(input_shape,\n",
        "                                               include_top=False,\n",
        "                                               weights='imagenet')\n",
        "    base_model.trainable=False\n",
        "\n",
        "    input=tf.keras.Input(input_shape)\n",
        "\n",
        "    x=data_augmentation(input)\n",
        "\n",
        "    x=preprocess_input(x)\n",
        "\n",
        "    x=base_model(x,training=False)\n",
        "\n",
        "    x=tfl.GlobalAveragePooling2D()(x)\n",
        "\n",
        "    x=tfl.Dropout(0.3)(x)\n",
        "\n",
        "\n",
        "    prediction_layer=tfl.Dense(1)\n",
        "\n",
        "    output=prediction_layer(x)\n",
        "\n",
        "    model=tf.keras.Model(input , output)\n",
        "    return model\n",
        "\n",
        "\n",
        "\n",
        ""
      ],
      "metadata": {
        "execution": {
          "iopub.status.busy": "2024-11-12T21:21:17.567184Z",
          "iopub.execute_input": "2024-11-12T21:21:17.567632Z",
          "iopub.status.idle": "2024-11-12T21:21:17.585469Z",
          "shell.execute_reply.started": "2024-11-12T21:21:17.567591Z",
          "shell.execute_reply": "2024-11-12T21:21:17.584134Z"
        },
        "trusted": true,
        "id": "dsrgDF72WNi6"
      },
      "outputs": [],
      "execution_count": null
    },
    {
      "cell_type": "code",
      "source": [
        "model=alpaca_model(img_size)"
      ],
      "metadata": {
        "execution": {
          "iopub.status.busy": "2024-11-12T21:17:22.416081Z",
          "iopub.execute_input": "2024-11-12T21:17:22.4165Z",
          "iopub.status.idle": "2024-11-12T21:17:23.257066Z",
          "shell.execute_reply.started": "2024-11-12T21:17:22.416461Z",
          "shell.execute_reply": "2024-11-12T21:17:23.255867Z"
        },
        "trusted": true,
        "id": "nTcdHazbWNi6"
      },
      "outputs": [],
      "execution_count": null
    },
    {
      "cell_type": "code",
      "source": [
        "optimizer=tf.keras.optimizers.Adam(learning_rate=0.01)\n",
        "loss=tf.keras.losses.BinaryCrossentropy(from_logits=True)\n",
        "model.compile(optimizer=optimizer ,\n",
        "             loss=loss,\n",
        "             metrics=['accuracy'])"
      ],
      "metadata": {
        "execution": {
          "iopub.status.busy": "2024-11-12T21:21:20.738378Z",
          "iopub.execute_input": "2024-11-12T21:21:20.738866Z",
          "iopub.status.idle": "2024-11-12T21:21:20.752151Z",
          "shell.execute_reply.started": "2024-11-12T21:21:20.738804Z",
          "shell.execute_reply": "2024-11-12T21:21:20.750725Z"
        },
        "trusted": true,
        "id": "fEIaSLAoWNi7"
      },
      "outputs": [],
      "execution_count": null
    },
    {
      "cell_type": "code",
      "source": [
        "history = model.fit(train_data, validation_data=val_data, epochs=10)\n"
      ],
      "metadata": {
        "trusted": true,
        "execution": {
          "iopub.status.busy": "2024-11-12T21:21:23.116808Z",
          "iopub.execute_input": "2024-11-12T21:21:23.117259Z",
          "iopub.status.idle": "2024-11-12T21:22:25.250484Z",
          "shell.execute_reply.started": "2024-11-12T21:21:23.117219Z",
          "shell.execute_reply": "2024-11-12T21:22:25.248879Z"
        },
        "id": "NZlbIaPDWNi7"
      },
      "outputs": [],
      "execution_count": null
    },
    {
      "cell_type": "code",
      "source": [
        "class_names"
      ],
      "metadata": {
        "execution": {
          "iopub.status.busy": "2024-11-12T20:26:37.173015Z",
          "iopub.execute_input": "2024-11-12T20:26:37.173518Z",
          "iopub.status.idle": "2024-11-12T20:26:37.181014Z",
          "shell.execute_reply.started": "2024-11-12T20:26:37.173467Z",
          "shell.execute_reply": "2024-11-12T20:26:37.179982Z"
        },
        "trusted": true,
        "id": "bmAVpMyjWNi7"
      },
      "outputs": [],
      "execution_count": null
    },
    {
      "cell_type": "code",
      "source": [
        "base_model.trainable=True\n",
        "\n",
        "print(len(base_model.layers))"
      ],
      "metadata": {
        "trusted": true,
        "execution": {
          "iopub.status.busy": "2024-11-12T21:22:29.766148Z",
          "iopub.execute_input": "2024-11-12T21:22:29.766604Z",
          "iopub.status.idle": "2024-11-12T21:22:29.773472Z",
          "shell.execute_reply.started": "2024-11-12T21:22:29.76656Z",
          "shell.execute_reply": "2024-11-12T21:22:29.772256Z"
        },
        "id": "kfO_JQ9UWNi7"
      },
      "outputs": [],
      "execution_count": null
    },
    {
      "cell_type": "code",
      "source": [
        "fine_tune_at=126\n",
        "lr=0.0001\n",
        "\n",
        "for layer in base_model.layers[:fine_tune_at]:\n",
        "    layer.trainable=False\n",
        "loss_function=tf.keras.losses.BinaryCrossentropy(from_logits=True)\n",
        "optimizer=tf.keras.optimizers.Adam(learning_rate=lr)\n",
        "model.compile(loss=loss_function , optimizer=optimizer , metrics=['accuracy'])\n"
      ],
      "metadata": {
        "trusted": true,
        "execution": {
          "iopub.status.busy": "2024-11-12T21:22:31.641154Z",
          "iopub.execute_input": "2024-11-12T21:22:31.642251Z",
          "iopub.status.idle": "2024-11-12T21:22:31.655251Z",
          "shell.execute_reply.started": "2024-11-12T21:22:31.642201Z",
          "shell.execute_reply": "2024-11-12T21:22:31.653802Z"
        },
        "id": "ylRBv3HtWNi7"
      },
      "outputs": [],
      "execution_count": null
    },
    {
      "cell_type": "code",
      "source": [
        "training_epochs=20\n",
        "model.fit(train_data ,\n",
        "         epochs=training_epochs ,\n",
        "         initial_epoch=history.epoch[-1] ,\n",
        "         validation_data=val_data)"
      ],
      "metadata": {
        "trusted": true,
        "execution": {
          "iopub.status.busy": "2024-11-12T21:22:33.814876Z",
          "iopub.execute_input": "2024-11-12T21:22:33.815334Z",
          "iopub.status.idle": "2024-11-12T21:23:33.474829Z",
          "shell.execute_reply.started": "2024-11-12T21:22:33.815293Z",
          "shell.execute_reply": "2024-11-12T21:23:33.473579Z"
        },
        "id": "d3ehpSuCWNi7"
      },
      "outputs": [],
      "execution_count": null
    }
  ]
}